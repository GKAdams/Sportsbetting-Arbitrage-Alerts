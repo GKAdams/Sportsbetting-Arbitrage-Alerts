{
 "cells": [
  {
   "cell_type": "code",
   "execution_count": 3,
   "metadata": {},
   "outputs": [],
   "source": [
    "from bs4 import BeautifulSoup as bs"
   ]
  },
  {
   "cell_type": "code",
   "execution_count": 27,
   "metadata": {},
   "outputs": [
    {
     "name": "stdout",
     "output_type": "stream",
     "text": [
      "     ARBITRAGE FOUND     \n",
      "-------------------------\n",
      "       BET AMOUNTS       \n",
      "\n",
      "Team1 (-125): $ 72.31\n",
      "Team2 (+370): $ 27.69\n",
      "-------------------------\n",
      "         STATS           \n",
      "\n",
      "Arbitrage %:  0.7683\n",
      "Profit: $ 30.15\n",
      "ROI:  0.3\n",
      "-------------------------\n"
     ]
    }
   ],
   "source": [
    "def arb_perc(t1, t2):\n",
    "\n",
    "    ao1 = int(t1[1:])\n",
    "    ao2 = int(t2[1:])\n",
    "\n",
    "    if t1[0] == '+':\n",
    "        do1 = (ao1/100) + 1\n",
    "    else:\n",
    "        do1 = (100/ao1) + 1\n",
    "    \n",
    "    if t2[0] == '+':\n",
    "        do2 = (ao2/100) + 1\n",
    "    else:\n",
    "        do2 = (100/ao2) + 1\n",
    "    \n",
    "    return ((1/do1)) + ((1/do2))\n",
    "def odds_conv(t1, t2):\n",
    "    ao1 = int(t1[1:])\n",
    "    ao2 = int(t2[1:])\n",
    "\n",
    "    if t1[0] == '+':\n",
    "        do1 = (ao1/100) + 1\n",
    "    else:\n",
    "        do1 = (100/ao1) + 1\n",
    "    if t2[0] == '+':\n",
    "        do2 = (ao2/100) + 1\n",
    "    else:\n",
    "        do2 = (100/ao2) + 1\n",
    "    \n",
    "    return [(1/do1), (1/do2)]\n",
    "\n",
    "\n",
    "unit = 100 #betting unit dollar amount\n",
    "TeamOdds1 = '-125'\n",
    "TeamOdds2 = '+370'\n",
    "r = arb_perc(TeamOdds1, TeamOdds2)\n",
    "profit = (100/r) - 100\n",
    "odds = odds_conv(TeamOdds1, TeamOdds2)\n",
    "bet1 = round((unit*odds[0])/r,2)\n",
    "bet2 = round((unit*odds[1])/r,2)\n",
    "\n",
    "if r >= 1:\n",
    "    print('No Arbitrage Available')\n",
    "else:\n",
    "    print('     ARBITRAGE FOUND     ')\n",
    "    print('-------------------------')\n",
    "    print('       BET AMOUNTS       ')\n",
    "    print()\n",
    "    print('Team1 ({}): $'.format(TeamOdds1), bet1)\n",
    "    print('Team2 ({}): $'.format(TeamOdds2), bet2)\n",
    "    print('-------------------------')\n",
    "    print('         STATS           ')\n",
    "    print()\n",
    "    print('Arbitrage %: ', round(r,4))\n",
    "    print('Profit: $', round(profit, 2))\n",
    "    print('ROI: ', round(((unit + profit)/unit - 1),2))\n",
    "    print('-------------------------')\n",
    "    \n",
    "\n",
    "\n",
    "\n",
    " "
   ]
  }
 ],
 "metadata": {
  "kernelspec": {
   "display_name": "myenv",
   "language": "python",
   "name": "python3"
  },
  "language_info": {
   "codemirror_mode": {
    "name": "ipython",
    "version": 3
   },
   "file_extension": ".py",
   "mimetype": "text/x-python",
   "name": "python",
   "nbconvert_exporter": "python",
   "pygments_lexer": "ipython3",
   "version": "3.9.15"
  },
  "orig_nbformat": 4,
  "vscode": {
   "interpreter": {
    "hash": "abec2ccee850c7aaeebeceb5280f928ab81ede6ec9d26936e1af6eda7dfa1614"
   }
  }
 },
 "nbformat": 4,
 "nbformat_minor": 2
}
